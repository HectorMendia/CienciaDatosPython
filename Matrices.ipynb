{
 "cells": [
  {
   "cell_type": "markdown",
   "metadata": {},
   "source": [
    "### Matrices"
   ]
  },
  {
   "cell_type": "code",
   "execution_count": 6,
   "metadata": {},
   "outputs": [],
   "source": [
    "import numpy as np"
   ]
  },
  {
   "cell_type": "markdown",
   "metadata": {},
   "source": [
    "**Ejercicio 1**: Investigar y ejemplificar diferencias entre np.array y np.matrix"
   ]
  },
  {
   "cell_type": "markdown",
   "metadata": {},
   "source": [
    " * ### matrix\n",
    "Las matrices son un tipo especial de array dentro de NumPy, y son utilizadas para manejo de dos dimenciones.  La idea de tener un tipo de dato especifico es para explotar al maximo las capacidades (reglas matematicas, deducciones, etc) de este elemento.  Algunas caracteristicas o porpiedades aplican para ciertos tipos de datos y no se logran interpretar de forma tan generica como lo son otros tipos de datos\n",
    "\n",
    " * ### array\n",
    "El tipo de dato array permite modelar *n* cantida de dimenciones, lo cual lo hace muy versatil pero menos especializado\n"
   ]
  },
  {
   "cell_type": "code",
   "execution_count": 19,
   "metadata": {},
   "outputs": [
    {
     "name": "stdout",
     "output_type": "stream",
     "text": [
      "Ejemplo de operacion con matrices\n",
      "[[19 22]\n",
      " [43 50]]\n",
      "Ejemplo de operacion con array de 2 dim\n",
      "[[19 22]\n",
      " [43 50]]\n"
     ]
    },
    {
     "data": {
      "text/plain": [
       "matrix([[1, 3],\n",
       "        [2, 4]])"
      ]
     },
     "execution_count": 19,
     "metadata": {},
     "output_type": "execute_result"
    }
   ],
   "source": [
    "# Ejemplo de matriz\n",
    "\n",
    "m1 = np.mat('1 2; 3 4')\n",
    "m2 = np.mat('5 6; 7 8')\n",
    "\n",
    "print('Ejemplo de operacion con matrices')\n",
    "print(np.matmul(m1,m2))\n",
    "\n",
    "print('Ejemplo de operacion con array de 2 dim')\n",
    "a1 = np.array([[1,2],[3,4]])\n",
    "a2 = np.array([[5,6],[7,8]])\n",
    "\n",
    "print(np.matmul(a1,a2))\n",
    "\n",
    "\n",
    "m1.H\n",
    "# a1.H"
   ]
  },
  {
   "cell_type": "markdown",
   "metadata": {},
   "source": [
    "### "
   ]
  },
  {
   "cell_type": "markdown",
   "metadata": {},
   "source": [
    "## Ejercicio \n",
    "\n",
    "Implementar en una funcion neural_network(X) la red neuronal definida por la siguiente arquitectura:\n",
    "\n",
    "<img src=\"http://i.imgur.com/UNlffE1.png\" width=\"400px\">\n",
    "\n",
    "Podemos validar si fue correctamente implementada si usamos como entrada el vector x=[1,1] . Debemos obtener el resultado mostrado en la imagen.\n",
    "\n",
    "Una vez tenemos la implementacion correcta, cambiar la funcion de activacion de la capa de salida por la funcion de activacion ReLu(https://en.wikipedia.org/wiki/Rectifier_(neural_networks)):\n",
    "\n",
    "<img src=\"https://cdn-images-1.medium.com/max/1600/1*DfMRHwxY1gyyDmrIAd-gjQ.png\" width=\"400px\">\n",
    "\n",
    "Luego evaluar la red neuronal sobre la matriz de datos X(de manera vectorizada):"
   ]
  },
  {
   "cell_type": "code",
   "execution_count": 7,
   "metadata": {},
   "outputs": [],
   "source": [
    "def sigmoid(x): #convertir los valores de x al rango de 0 a 1\n",
    "    \n",
    "    return 1/(1+np.exp(-x))"
   ]
  },
  {
   "cell_type": "code",
   "execution_count": 8,
   "metadata": {},
   "outputs": [
    {
     "name": "stdout",
     "output_type": "stream",
     "text": [
      "[[0.99995577]\n",
      " [0.99999332]]\n"
     ]
    }
   ],
   "source": [
    "H1_W = np.array([[0.25,-8],\n",
    "                 [0.37,14]])\n",
    "OL_W = np.array([[4],[9]])\n",
    "\n",
    "X =  np.array([[0.1,0.2],\n",
    "               [1,2]])\n",
    "\n",
    "H1 = np.matmul(X,H1_W)\n",
    "H1 = sigmoid(H1)  # funcion de activacion: convertir a valores en el intervalo de 0 a 1\n",
    "OL = np.matmul(H1,OL_W)\n",
    "OL = sigmoid(OL)  # funcion de activacion: convertir a valores en el intervalo de 0 a 1\n",
    "\n",
    "\n",
    "print(OL)"
   ]
  },
  {
   "cell_type": "markdown",
   "metadata": {},
   "source": [
    "### Funcion ReLU"
   ]
  },
  {
   "cell_type": "code",
   "execution_count": 11,
   "metadata": {},
   "outputs": [],
   "source": [
    "def rectifier(x):\n",
    "    x[x < 0] = 0\n",
    "    return x"
   ]
  },
  {
   "cell_type": "code",
   "execution_count": 12,
   "metadata": {},
   "outputs": [
    {
     "name": "stdout",
     "output_type": "stream",
     "text": [
      "[[0.69269553]]\n",
      "[[1.014762]]\n"
     ]
    }
   ],
   "source": [
    "def neural_network(input_val, activation_func):\n",
    "    H1_W = np.array([[0.712,0.355,0.268],\n",
    "                     [0.112,0.855,0.468]])\n",
    "    OL_W = np.array([[0.116],[0.329],[0.708]])\n",
    "\n",
    "    #print(X.shape,H1_W.shape)\n",
    "    #print (X,H1_W)\n",
    "    H1 = np.matmul(input_val,H1_W)\n",
    "    #print(H1)\n",
    "    H1 = activation_func(H1)  # funcion de activacion: convertir a valores en el intervalo de 0 a 1\n",
    "    #print(H1)\n",
    "\n",
    "    #print(H1.shape,OL_W.shape)\n",
    "    OL = np.matmul(H1,OL_W)\n",
    "    OL = activation_func(OL)  # funcion de activacion: convertir a valores en el intervalo de 0 a 1\n",
    "\n",
    "    #print(OL)\n",
    "    return OL\n",
    "\n",
    "\n",
    "\n",
    "X =  np.array([[1,1]])\n",
    "print (neural_network(X,sigmoid))\n",
    "print (neural_network(X,rectifier))"
   ]
  },
  {
   "cell_type": "code",
   "execution_count": 20,
   "metadata": {},
   "outputs": [
    {
     "name": "stdout",
     "output_type": "stream",
     "text": [
      "Con sigmoid\n",
      "[[0.70244573]\n",
      " [0.66259284]\n",
      " [0.75933678]\n",
      " [0.75973948]\n",
      " [0.75802295]\n",
      " [0.6739704 ]\n",
      " [0.75954693]\n",
      " [0.76005845]\n",
      " [0.75952743]\n",
      " [0.76005845]]\n",
      "Con ReLU\n",
      "[[1.2901751e+00]\n",
      " [3.9827325e-01]\n",
      " [7.5763340e+00]\n",
      " [8.4233580e+00]\n",
      " [5.8520720e+00]\n",
      " [6.1724410e-01]\n",
      " [7.7977270e+00]\n",
      " [1.6403930e+02]\n",
      " [7.7289650e+00]\n",
      " [1.0551858e+03]]\n"
     ]
    }
   ],
   "source": [
    "X = np.array([\n",
    "    [0.1,2],\n",
    "    [0.3,0.45],\n",
    "    [5,9],\n",
    "    [12,6],\n",
    "    [7,5],\n",
    "    [0.3,0.8],\n",
    "    [12,5],\n",
    "    [100,200],\n",
    "    [7,8],\n",
    "    [300,1500]])\n",
    "print('Con sigmoid')\n",
    "print (neural_network(X,sigmoid))\n",
    "print('Con ReLU')\n",
    "print (neural_network(X,rectifier))"
   ]
  },
  {
   "cell_type": "code",
   "execution_count": null,
   "metadata": {},
   "outputs": [],
   "source": []
  },
  {
   "cell_type": "code",
   "execution_count": null,
   "metadata": {},
   "outputs": [],
   "source": []
  },
  {
   "cell_type": "code",
   "execution_count": null,
   "metadata": {},
   "outputs": [],
   "source": []
  },
  {
   "cell_type": "code",
   "execution_count": null,
   "metadata": {},
   "outputs": [],
   "source": []
  }
 ],
 "metadata": {
  "kernelspec": {
   "display_name": "Python 3",
   "language": "python",
   "name": "python3"
  },
  "language_info": {
   "codemirror_mode": {
    "name": "ipython",
    "version": 3
   },
   "file_extension": ".py",
   "mimetype": "text/x-python",
   "name": "python",
   "nbconvert_exporter": "python",
   "pygments_lexer": "ipython3",
   "version": "3.7.4"
  }
 },
 "nbformat": 4,
 "nbformat_minor": 4
}

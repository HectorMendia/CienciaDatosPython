{
 "cells": [
  {
   "cell_type": "markdown",
   "metadata": {},
   "source": [
    "<center><h1>Tarea 1</h1> <img src=\"img.jpg\" width=\"200px\"></center>"
   ]
  },
  {
   "cell_type": "markdown",
   "metadata": {},
   "source": [
    "### This is a subtitle in Markdown\n",
    "\n",
    "#### This is a smaller subtitle\n",
    "\n",
    "##### This is an even smaller subtitle"
   ]
  },
  {
   "cell_type": "markdown",
   "metadata": {},
   "source": []
  },
  {
   "cell_type": "markdown",
   "metadata": {},
   "source": [
    "##### Una herramienta como GIT que es un sistema control de versiones surgió como una necesidad de integrar código entre los miembros de un equipo de desarrollo.  No contar con herramientas de este tipo en un equipo que trabaja en un mismo proyecto resultara en un caos total, es común ver organizaciones que para un archivo crean copias en distintas máquinas de los usuarios y todos tendrán una versión final distinta llamada: final1, final2, final_final, ultimo_final, etc.\n",
    "\n",
    "##### Para un proyecto donde se utilizan varios archivos copiar archivos no es una opción, por lo que con un sistema de versiones es indispensable.  Y aun dentro de este tipo de sistemas se producen diversos errores al momento de sincronizar, ya que alguien puede sobrescribir las modificaciones de otro usuario; pero en el peor de los casos se podrá reestablecer a una versión anterior."
   ]
  },
  {
   "cell_type": "markdown",
   "metadata": {},
   "source": [
    "##### Dejando el trabajo en equipos también es importante llevar a nivel individual el control del trabajo que se va realizando.  A lo largo del tiempo una persona trabaja en diversos proyectos individuales y es posible ver el crecimiento y llevar un control sobre cada uno de estos.  Además de servir como respaldo del trabajo realizado permitirá todas las capacidades que se tienen al trabajar con un grupo de personas como, por ejemplo: ver las cosas agregadas, cosas eliminadas, diferencias entre archivos, etc."
   ]
  },
  {
   "cell_type": "markdown",
   "metadata": {},
   "source": [
    "<img src=\"git_commit.png\" width=\"400px\">\n",
    "<center><strong><a href=\"https://xkcd.com/\" target=\"_blank\"> xkcd </strong></center>"
   ]
  },
  {
   "cell_type": "markdown",
   "metadata": {},
   "source": [
    "##### Para iniciar es necesario contar con una instalación de git, idealmente esta debería de estar configurada en nuestras variables de ambiente para que los comandos sean reconocidos desde cualquier ubicación de la computadora.  Una de las características es de git como tal, es la carencia de una interfaz grafica por lo que se realizan muchos comandos a nivel de consola.  En el caso de requerir una interfaz grafica para facilitar su uso se acostumbra a utilizar un software de terceros."
   ]
  },
  {
   "cell_type": "markdown",
   "metadata": {},
   "source": [
    "##### Algunos de los programas de terceros pueden variar en funcionalidad y en como se presentan las opciones, una de las ventajas de contar con una interfaz grafica es al momento de realizar la reconciliación de las versiones (una raíz tiene dos hijos y los cambios entre ellos colisionan)"
   ]
  },
  {
   "cell_type": "markdown",
   "metadata": {},
   "source": []
  },
  {
   "cell_type": "markdown",
   "metadata": {},
   "source": []
  },
  {
   "cell_type": "markdown",
   "metadata": {},
   "source": []
  },
  {
   "cell_type": "markdown",
   "metadata": {},
   "source": []
  }
 ],
 "metadata": {
  "kernelspec": {
   "display_name": "Python 3",
   "language": "python",
   "name": "python3"
  },
  "language_info": {
   "codemirror_mode": {
    "name": "ipython",
    "version": 3
   },
   "file_extension": ".py",
   "mimetype": "text/x-python",
   "name": "python",
   "nbconvert_exporter": "python",
   "pygments_lexer": "ipython3",
   "version": "3.7.4"
  }
 },
 "nbformat": 4,
 "nbformat_minor": 4
}

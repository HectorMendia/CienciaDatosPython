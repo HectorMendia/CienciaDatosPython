{
 "cells": [
  {
   "cell_type": "markdown",
   "metadata": {},
   "source": [
    "<center>\n",
    "    <h2>Tarea 1</h2>\n",
    "    <h1>Ensayo: GIT en proyectos individuales</h1> \n",
    "    <img src=\"img.jpg\" width=\"200px\">\n",
    "</center>"
   ]
  },
  {
   "cell_type": "markdown",
   "metadata": {},
   "source": [
    "<br/>"
   ]
  },
  {
   "cell_type": "markdown",
   "metadata": {},
   "source": [
    "### Introducción\n",
    "\n",
    "#### Ensayo sobre el uso de Git desde un enfoque para uso de proyectos personales haciendo uso de un Jupiter Notebook como editor y visualizador.  No se pretende explorar a profundidad el uso de Git más que como un medio de resguardo de la información y cambios históricos."
   ]
  },
  {
   "cell_type": "markdown",
   "metadata": {},
   "source": [
    "<br/>"
   ]
  },
  {
   "cell_type": "markdown",
   "metadata": {},
   "source": [
    "### Contenido"
   ]
  },
  {
   "cell_type": "markdown",
   "metadata": {},
   "source": [
    "#### Una herramienta como GIT que es un sistema control de versiones surgió como una necesidad de integrar código entre los miembros de un equipo de desarrollo.  No contar con herramientas de este tipo en un equipo que trabaja en un mismo proyecto resultara en un caos total, es común ver organizaciones que para un archivo crean copias en distintas máquinas de los usuarios y todos tendrán una versión final distinta llamada: final1, final2, final_final, ultimo_final, etc.\n",
    "\n",
    "#### Para un proyecto donde se utilizan varios archivos copiar archivos no es una opción, por lo que con un sistema de versiones es indispensable.  Y aun dentro de este tipo de sistemas se producen diversos errores al momento de sincronizar, ya que alguien puede sobrescribir las modificaciones de otro usuario; pero en el peor de los casos se podrá reestablecer a una versión anterior."
   ]
  },
  {
   "cell_type": "markdown",
   "metadata": {},
   "source": [
    "#### Dejando el trabajo en equipos también es importante llevar a nivel individual el control del trabajo que se va realizando.  A lo largo del tiempo una persona trabaja en diversos proyectos individuales y es posible ver el crecimiento y llevar un control sobre cada uno de estos.  Además de servir como respaldo del trabajo realizado permitirá todas las capacidades que se tienen al trabajar con un grupo de personas como, por ejemplo: ver las cosas agregadas, cosas eliminadas, diferencias entre archivos, etc.  Pero por ser un proyecto individual debería de cuidarse un estándar mínimo para lo que se realiza."
   ]
  },
  {
   "cell_type": "markdown",
   "metadata": {},
   "source": [
    "<img src=\"git_commit.png\" width=\"400px\">\n",
    "<center><strong><a href=\"https://xkcd.com/\" target=\"_blank\"> xkcd </a></strong></center>"
   ]
  },
  {
   "cell_type": "markdown",
   "metadata": {},
   "source": [
    "#### Para iniciar es necesario contar con una instalación de git, idealmente esta debería de estar configurada en nuestras variables de ambiente para que los comandos sean reconocidos desde cualquier ubicación de la computadora.  Una de las características es de git como tal, es la carencia de una interfaz grafica por lo que se realizan muchos comandos a nivel de consola.  En el caso de requerir una interfaz grafica para facilitar su uso se acostumbra a utilizar un software de terceros."
   ]
  },
  {
   "cell_type": "markdown",
   "metadata": {},
   "source": [
    "#### Algunos de los programas de terceros pueden variar en funcionalidad y en como se presentan las opciones, una de las ventajas de contar con una interfaz grafica es al momento de realizar la reconciliación de las versiones (una raíz tiene dos hijos y los cambios entre ellos colisionan)"
   ]
  },
  {
   "cell_type": "markdown",
   "metadata": {},
   "source": [
    "#### Para iniciar es necesario contar con una instalación de git, idealmente esta debería de estar configurada en nuestras variables de ambiente para que los comandos sean reconocidos desde cualquier ubicación de la computadora.  Una de las características es de git como tal, es la carencia de una interfaz grafica por lo que se realizan muchos comandos a nivel de consola.  En el caso de requerir una interfaz grafica para facilitar su uso se acostumbra a utilizar un software de terceros.\n",
    "\n",
    "#### Algo común es la configuración del ambiente local, el guardar las credenciales para poder conectarse al servidor donde se centralizan las versiones puede depender si en caso se trabaja con diversos servidores; pero una inicialización básica en línea de comandos seria:\n",
    "\n",
    "```bash\n",
    " \\>git config --global user.email \"usuario@correo.com\"\n",
    " \\>git config --global user.name \"Nombre Usuario\"\n",
    " \\>\n",
    "```"
   ]
  },
  {
   "cell_type": "markdown",
   "metadata": {},
   "source": [
    "#### Algunos de los programas de terceros pueden variar en funcionalidad y en como se presentan las opciones, una de las ventajas de contar con una interfaz grafica es al momento de realizar la reconciliación de las versiones (una raíz tiene dos hijos y los cambios entre ellos colisionan) es la visualización de las diferencias.  Otra ventaja de tener una interfaz gráfica es no tener memorizar o escribir todos los comandos para las tareas sencillas (las de cada comento); pero al momento de situaciones complejas el usuario requiere tener el mayor control posible que solo se tiene con la línea de comandos.\n",
    "\n",
    "#### Inicialmente se requiere contar con un repositorio para el control de versiones, es importante utilizar el que resulte mas conveniente para el usuario o la organización; ya que las características que acompañan a cada uno varían, así como sus costos.  Algunas recomendaciones son:\n",
    "\n",
    "1.\thttps://github.com/ \n",
    "2.\thttps://visualstudio.microsoft.com/\n",
    "3.\thttps://bitbucket.org/product/\n"
   ]
  },
  {
   "cell_type": "markdown",
   "metadata": {},
   "source": [
    "#### En el caso de github.com sería similar a la siguiente imagen\n",
    "\n",
    "<img src=\"repositorio_github.PNG\" width=\"550px\">\n",
    "<center><strong>Creación de repositorio</strong></center>\n",
    "    \n"
   ]
  },
  {
   "cell_type": "markdown",
   "metadata": {},
   "source": [
    "1.\tSi el repositorio esta vacío una posible opción es inicializar el proyecto desde la máquina de trabajo y después subirlo al repositorio de versiones.  Dentro de una línea de comando se ejecuta la inicialización local \n",
    ">git init\n",
    "\n",
    "\tSe crean dentro de esta misma carpeta los archivos iniciales que el usuario quiera tener en el repositorio (ej. README.md), se procede a agregarlos en el sistema de control local\n",
    ">git add README.md\n",
    "\n",
    "\tSe guarda el primer estado del árbol de versiones y se le da un comentario; esto estado es el conjunto de archivos y su contenido en su forma actual.  Cualquier cambio posterior que se realice formaran parte de un estado posterior.\n",
    ">git commit -m \"Inicio proyecto\"\n",
    "\n",
    "\tSe procede a conectar la carpeta actual con el repositorio en línea \n",
    ">git remote add origin https://github.com/HectorMendia/testgit.git\n",
    "\n",
    "\tA continuacion se suben los cambios realizados localmente al servidor\n",
    ">git push -u origin master\n",
    "\n",
    "\n",
    "2.\tOtra opción es dejar que el repositorio del servidor sea el inicial y de lado de la máquina de trabajo clonar el repositorio.  \n",
    ">git clone https://github.com/HectorMendia/testgit.git\n",
    "\n"
   ]
  },
  {
   "cell_type": "markdown",
   "metadata": {},
   "source": [
    "#### Después será el uso diario de estar guardando los estados de los cambios constantemente, acumular muchos cambios localmente o por mucho tiempo seria una mala práctica.  Por un lado, no se le daría el uso al sistema de control por lo que seria lo mismo que no tenerlo, el guardar cambios en los estados de versión puede depender de que tanto se modifiquen los archivos o el flujo de trabajo sé que necesite.\n",
    "\n",
    "#### Aquí es donde entra las tareas comunes de utilizar push y pull; antes de subir algún cambio al servidor remoto deberíamos de revisar que no hay nuevos cambios en esa versión.   Aunque si es un único usuario el que esta trabajando no debería de haber mayor complicación; en este caso procedemos a subir el archivo que a sufrido alguna modificación\n",
    "\n",
    ">git add test.txt\n",
    "\n",
    ">git commit -m \"actualizacion\"\n",
    "\n",
    ">git push -u origin master\n"
   ]
  },
  {
   "cell_type": "markdown",
   "metadata": {},
   "source": [
    "<br/>"
   ]
  },
  {
   "cell_type": "markdown",
   "metadata": {},
   "source": [
    "### Conclusiones\n",
    "\n",
    "#### Sin duda alguna el conocimiento de las capacidades de una herramienta permite un mejor aprovechamiento de esta.  En este caso Git permite un gran manejo de los cambios y responderá según el control que tengan los usuarios de ella.  \n",
    "\n",
    "#### Un sistema de control de versiones es una herramienta indispensable dentro del toolbox de cualquier desarrollador y esta a cobrado relevancia dentro de otras áreas para llevar el control de cambio de scripts, entre otros como DBAs, administradores IT, etc.\n",
    "  \n",
    "\n"
   ]
  },
  {
   "cell_type": "markdown",
   "metadata": {},
   "source": [
    "<br/>"
   ]
  },
  {
   "cell_type": "markdown",
   "metadata": {},
   "source": [
    "Hector Mendia  (2000758)\n",
    "hector.mendia@galileo.edu"
   ]
  }
 ],
 "metadata": {
  "kernelspec": {
   "display_name": "Python 3",
   "language": "python",
   "name": "python3"
  },
  "language_info": {
   "codemirror_mode": {
    "name": "ipython",
    "version": 3
   },
   "file_extension": ".py",
   "mimetype": "text/x-python",
   "name": "python",
   "nbconvert_exporter": "python",
   "pygments_lexer": "ipython3",
   "version": "3.7.4"
  }
 },
 "nbformat": 4,
 "nbformat_minor": 4
}

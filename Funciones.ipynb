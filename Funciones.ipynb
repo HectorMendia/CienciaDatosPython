{
 "cells": [
  {
   "cell_type": "markdown",
   "metadata": {},
   "source": [
    "# Tarea sobre funciones"
   ]
  },
  {
   "cell_type": "markdown",
   "metadata": {},
   "source": [
    "Investigacion sobre:\n",
    "\n",
    "1. [Funciones en Python](#item1)\n",
    "2. [Parametros posisionales](#item2)\n",
    "3. [Parametros nombrados](#item3)\n",
    "4. [Retorno de multiples valores](#item4)\n",
    "5. [Funciones como objetos y como parametros de otras funciones](#item5)\n",
    "6. [Funciones anonimas o lambda](#item6)\n"
   ]
  },
  {
   "cell_type": "markdown",
   "metadata": {},
   "source": [
    "<a id='item1'></a>\n",
    "### 1. Funciones de python\n",
    "\n",
    "Un forma de interpretar las funciones es como un agrupador de instrucciones.  Por medio de un nombre unico dentro del script que se tenga en ese momento, se le definiran un bloque de instrucciones que se realizaran al momento de que se llame a este grupo.  La estructura respeta la logica del programa, por lo que todas las instrucciones que estan dentro de la identacion de la defincion pertenecera a ella.\n",
    "\n",
    "##### La estructura basica de una funcion\n",
    "\n",
    "* Se utiliza la palabra reservada **def** para especificar el inicio de la funcion.\n",
    "* Despues vendra el nombre de la funcion; el nombre de la funcion esta regulada a la reglas de nombre de variables del lenguaje (osea que no puede uniciar con numero, se permiten minisculas, se permiten mayusculas, se permite guion bajo '_', etc.).\n",
    "* Despues del nombre vendra parentesis, lo que esta dentro de los parentesis seran los parametros que se explicaran mas adelante. \n",
    "* Por ultimo estara el cuerpo de la funcion, la identacion del codigo indicara que lineas pertenecen a la funcion"
   ]
  },
  {
   "cell_type": "code",
   "execution_count": 1,
   "metadata": {},
   "outputs": [],
   "source": [
    "# Ejemplo de definicion basica\n",
    "# def  <nombre funcion>():\n",
    "def miPrimerFuncion():\n",
    "    # cuerpo de la funcion\n",
    "    print('hola mundo')"
   ]
  },
  {
   "cell_type": "markdown",
   "metadata": {},
   "source": [
    "#### Uso de funcion\n",
    "\n",
    "Para hacer uso de una funcion definida se realizada por medio del nombre definido y su parentesis"
   ]
  },
  {
   "cell_type": "code",
   "execution_count": 2,
   "metadata": {},
   "outputs": [
    {
     "name": "stdout",
     "output_type": "stream",
     "text": [
      "hola mundo\n"
     ]
    }
   ],
   "source": [
    "miPrimerFuncion()"
   ]
  },
  {
   "cell_type": "markdown",
   "metadata": {},
   "source": [
    "A partir de esto las funciones se pueden llamar desde cualquier punto del programa donde se logre tener acceso a la referencia (como un if, ciclo, etc.)"
   ]
  },
  {
   "cell_type": "code",
   "execution_count": 3,
   "metadata": {},
   "outputs": [
    {
     "name": "stdout",
     "output_type": "stream",
     "text": [
      "hola mundo\n",
      "hola mundo\n",
      "hola mundo\n"
     ]
    }
   ],
   "source": [
    "miPrimerFuncion() # llamada 1\n",
    "if True:\n",
    "    miPrimerFuncion() # llamada 2\n",
    "\n",
    "miPrimerFuncion() # llamada 3"
   ]
  },
  {
   "cell_type": "markdown",
   "metadata": {},
   "source": [
    "#### Retorno de resultados\n",
    "\n",
    "Para que retorne un resultado la funcion se utiliza la palabra reservada **return** seguida del valor o la variable.  Esta puede ser llamada desde cualquier punto de la funcion y provocara que se termine la ejecucion de la funcion; cualquier codigo que este despues de un return ya no sera ejecutado"
   ]
  },
  {
   "cell_type": "code",
   "execution_count": 4,
   "metadata": {},
   "outputs": [],
   "source": [
    "# Ejemplo de retorno de valores\n",
    "def segundaFuncion():\n",
    "    conteo = 1\n",
    "    conteo += 1\n",
    "    return conteo"
   ]
  },
  {
   "cell_type": "code",
   "execution_count": 5,
   "metadata": {},
   "outputs": [
    {
     "name": "stdout",
     "output_type": "stream",
     "text": [
      "2\n"
     ]
    }
   ],
   "source": [
    "print (segundaFuncion())"
   ]
  },
  {
   "cell_type": "code",
   "execution_count": 6,
   "metadata": {},
   "outputs": [],
   "source": [
    "# Ejemplo de retorno sin que se ejecute todo el codigo de la funcion\n",
    "def terceraFucion():\n",
    "    conteo = 1\n",
    "    conteo += 1\n",
    "    return conteo\n",
    "    conteo += 2 # esta linea ya no se realizara"
   ]
  },
  {
   "cell_type": "code",
   "execution_count": 7,
   "metadata": {},
   "outputs": [
    {
     "name": "stdout",
     "output_type": "stream",
     "text": [
      "2\n"
     ]
    }
   ],
   "source": [
    "print(terceraFucion()) ## retornara 2 y no 4"
   ]
  },
  {
   "cell_type": "markdown",
   "metadata": {},
   "source": [
    "<a id='item2'></a>\n",
    "### 2. Parametros posisionales\n",
    "\n",
    "El primer tipo de parametros comunes de las funciones de la mayoria de lenguajes de programacion es recibir parametros segun el orden en que fueron definidos.  Por ejemplo para poder enviar el segundo parametro es necesario enviar el primero.  "
   ]
  },
  {
   "cell_type": "code",
   "execution_count": 8,
   "metadata": {},
   "outputs": [],
   "source": [
    "def funcionParametros(uno, dos, tipoOperacion):\n",
    "    if tipoOperacion==1:\n",
    "        print(uno + dos)\n",
    "    else:\n",
    "        print(uno * dos)"
   ]
  },
  {
   "cell_type": "code",
   "execution_count": 9,
   "metadata": {},
   "outputs": [
    {
     "name": "stdout",
     "output_type": "stream",
     "text": [
      "7\n",
      "12\n"
     ]
    }
   ],
   "source": [
    "funcionParametros(4,3,1) # escribe la suma\n",
    "funcionParametros(4,3,2) # escribe la multiplicacion"
   ]
  },
  {
   "cell_type": "code",
   "execution_count": 10,
   "metadata": {},
   "outputs": [],
   "source": [
    "## la siguiente llamada no envia todos los parametros definidos que son 3, por lo tanto falla en su ejecucion\n",
    "# funcionParametros(4,1)"
   ]
  },
  {
   "cell_type": "markdown",
   "metadata": {},
   "source": [
    "---------------------------------------------------------------------------\n",
    "TypeError                                 Traceback (most recent call last)\n",
    "<ipython-input-22-0d76517e9c24> in <module>\n",
    "----> 1 funcionParametros(4,1)\n",
    "\n",
    "TypeError: funcionParametros() missing 1 required positional argument: 'tipoOperacion'"
   ]
  },
  {
   "cell_type": "markdown",
   "metadata": {},
   "source": [
    "Debido a que python es muy flexible en la definicion de los tipos de datos las funciones pueden recibir distitintos tipos de datos y ser evaluados "
   ]
  },
  {
   "cell_type": "code",
   "execution_count": 11,
   "metadata": {},
   "outputs": [],
   "source": [
    "# Ejemplo de una funcion que recibe distintos tipos de datos\n",
    "def tipoDato(valor):\n",
    "    if type(valor)== int:\n",
    "        valor *= valor\n",
    "        return 'Es entero, su cuadrado: ' + str(valor )\n",
    "    elif type(valor)==str:\n",
    "        \n",
    "        return 'Es cadena, no se opera'\n",
    "    elif type(valor)==float:\n",
    "        valor = valor*2\n",
    "        return 'Es flotante, el doble es: ' + str(valor)\n",
    "    else:\n",
    "        return 'es otra cosa'"
   ]
  },
  {
   "cell_type": "code",
   "execution_count": 12,
   "metadata": {},
   "outputs": [
    {
     "name": "stdout",
     "output_type": "stream",
     "text": [
      "Es entero, su cuadrado: 121\n",
      "Es cadena, no se opera\n",
      "Es flotante, el doble es: 66.44\n",
      "es otra cosa\n"
     ]
    }
   ],
   "source": [
    "print(tipoDato(11))\n",
    "print(tipoDato('Hola'))\n",
    "print(tipoDato(33.22))\n",
    "print(tipoDato([1,2,3]))"
   ]
  },
  {
   "cell_type": "markdown",
   "metadata": {},
   "source": [
    "<a id='item3'></a>\n",
    "### 3. Parametros nombrados\n",
    "\n",
    "Para solucionar el problema de que cuando hay varios parametros y no todos son necesario se crea la funcionalidad de definir los valores **default**.  Cuando no se quiere enviar un parametro la funcion tomara el valor default para operar.  Y cuando querramos cambiar el orden de envío de parametros se usara el nombre del parametro que haremos referencia.\n",
    "\n",
    "Si en caso no se envian los nombres de los parametros al momento de usar la funcion se operaran por su orden de definicion"
   ]
  },
  {
   "cell_type": "code",
   "execution_count": 13,
   "metadata": {},
   "outputs": [],
   "source": [
    "# Ejemplo de funcion con parametros nombrados\n",
    "def operacionNumeros(valor1 = 1, valor2=1, tipoOperacion = 1):\n",
    "    salida = 1\n",
    "    if tipoOperacion == 1:\n",
    "        salida = valor1 * valor2\n",
    "    elif tipoOperacion == 2:\n",
    "        salida = valor1 / valor2\n",
    "    else:\n",
    "        salida = valor1 / (valor1 + valor2)\n",
    "    return salida"
   ]
  },
  {
   "cell_type": "code",
   "execution_count": 14,
   "metadata": {},
   "outputs": [
    {
     "name": "stdout",
     "output_type": "stream",
     "text": [
      "1\n",
      "3\n",
      "0.6\n",
      "0.625\n",
      "2.0\n"
     ]
    }
   ],
   "source": [
    "print(operacionNumeros()) # usara los valores default\n",
    "\n",
    "print(operacionNumeros(3)) # se envia solo el primer parametro\n",
    "print(operacionNumeros(3,5,2)) # se envian todos los parametros\n",
    "\n",
    "\n",
    "print(operacionNumeros(valor2 = 3, tipoOperacion = 55, valor1 = 5)) # orden distinto en envio de parametros\n",
    "\n",
    "print(operacionNumeros(valor2 = 0.5, tipoOperacion = 2)) # envio de parametros segungo y tercero"
   ]
  },
  {
   "cell_type": "markdown",
   "metadata": {},
   "source": [
    "<a id='item4'></a>\n",
    "### 4. Retorno de multiples valores\n",
    "\n",
    "Debido a que python permite hacer asignaciones simultaneas de varios valores, esto se puede aplicar tambien a funciones"
   ]
  },
  {
   "cell_type": "code",
   "execution_count": 15,
   "metadata": {},
   "outputs": [
    {
     "name": "stdout",
     "output_type": "stream",
     "text": [
      "1 2\n"
     ]
    }
   ],
   "source": [
    "# asignacion de variales\n",
    "a,b = 1,2\n",
    "print (a,b)"
   ]
  },
  {
   "cell_type": "markdown",
   "metadata": {},
   "source": [
    "En el ejemplo anterior se visualiza como se puede realizar una asignacion de varios valores a varias variables."
   ]
  },
  {
   "cell_type": "code",
   "execution_count": 16,
   "metadata": {},
   "outputs": [],
   "source": [
    "# Ejemplo de funcion de retorno de multiples valores\n",
    "def operacionesSimultaneas(a,b):\n",
    "    suma = a + b\n",
    "    resta = a- b\n",
    "    multi = a * b\n",
    "    div = a / b\n",
    "    return suma, resta, multi, div\n",
    "    "
   ]
  },
  {
   "cell_type": "code",
   "execution_count": 17,
   "metadata": {},
   "outputs": [
    {
     "name": "stdout",
     "output_type": "stream",
     "text": [
      "(9, 3, 18, 2.0)\n",
      "9 3 18 2.0\n"
     ]
    }
   ],
   "source": [
    "valor1 = 6\n",
    "valor2 = 3\n",
    "print (operacionesSimultaneas(valor1, valor2))\n",
    "\n",
    "rSuma, rResta, rMult, rDiv = operacionesSimultaneas(valor1, valor2)\n",
    "\n",
    "print (rSuma, rResta, rMult, rDiv)"
   ]
  },
  {
   "cell_type": "markdown",
   "metadata": {},
   "source": [
    "<a id='item5'></a>\n",
    "### 5. Funciones como objetos y como parametros de otras funciones\n",
    "\n",
    "Un punto interesante en python es que todo es un objeto, incluso las funciones.  Por lo tanto una funcion puede pasar como parametro de una funcion. El primer ejemplo, se muestra la lista de atributos y metodos de la funcion definida:"
   ]
  },
  {
   "cell_type": "code",
   "execution_count": 18,
   "metadata": {},
   "outputs": [
    {
     "name": "stdout",
     "output_type": "stream",
     "text": [
      "['__annotations__', '__call__', '__class__', '__closure__', '__code__', '__defaults__', '__delattr__', '__dict__', '__dir__', '__doc__', '__eq__', '__format__', '__ge__', '__get__', '__getattribute__', '__globals__', '__gt__', '__hash__', '__init__', '__init_subclass__', '__kwdefaults__', '__le__', '__lt__', '__module__', '__name__', '__ne__', '__new__', '__qualname__', '__reduce__', '__reduce_ex__', '__repr__', '__setattr__', '__sizeof__', '__str__', '__subclasshook__']\n"
     ]
    }
   ],
   "source": [
    "def funcObj():\n",
    "    return 0\n",
    "print(dir(funcObj))"
   ]
  },
  {
   "cell_type": "code",
   "execution_count": 19,
   "metadata": {},
   "outputs": [
    {
     "name": "stdout",
     "output_type": "stream",
     "text": [
      "0.0085\n"
     ]
    }
   ],
   "source": [
    "# funcion que se utilizara como parametro\n",
    "def evaluarLimite(valor):\n",
    "    if valor<10:\n",
    "        return 0.1\n",
    "    else:\n",
    "        return 0.17\n",
    "\n",
    "# funcion que recibe un parametro 'funcion'\n",
    "def evaluarMinimo(valor, func):\n",
    "    return 0.05 * func(valor)\n",
    "\n",
    "# prueba de paso de parametros\n",
    "print(evaluarMinimo(10,evaluarLimite))\n",
    "\n"
   ]
  },
  {
   "cell_type": "markdown",
   "metadata": {},
   "source": [
    "Cualquier funcion que se envie intentara utilizarse como parte de la operacion en la funcion 'evaluarMinimo'.  Tambien es posible asigna las funciones a otras variables lo que resultaria como un alias del nombre de la funcion"
   ]
  },
  {
   "cell_type": "code",
   "execution_count": 20,
   "metadata": {},
   "outputs": [
    {
     "name": "stdout",
     "output_type": "stream",
     "text": [
      "0.1\n",
      "0.1\n"
     ]
    }
   ],
   "source": [
    "el = evaluarLimite\n",
    "\n",
    "print(evaluarLimite(5))\n",
    "print(el(5))"
   ]
  },
  {
   "cell_type": "markdown",
   "metadata": {},
   "source": [
    "<a id='item6'></a>\n",
    "### 6. Funciones anonimas o lambda\n",
    "\n",
    "Las funciones lamda son funciones anonimas que encapsulan codigo para facilitar ciertas operaciones sin tener que hacer una definicion larga.  Es comun utilizarla en conjunto con otras funciones, pueden ahorrar tiempo de ejecucion ya que en lugar de hacer un ciclo es posible utilizar una funcion optimizada de python y combinarla con una funcion lambda para perzonalizarla"
   ]
  },
  {
   "cell_type": "code",
   "execution_count": 21,
   "metadata": {},
   "outputs": [
    {
     "name": "stdout",
     "output_type": "stream",
     "text": [
      "['Abelardo', 'Carlos', 'Gustav']\n"
     ]
    }
   ],
   "source": [
    "# Filtrar datos con ciclo para los nombres mas largos de 5 caracteres\n",
    "lista = ['Abelardo','Beto','Carlos','Diego','Edgar','Fredy','Gustav']\n",
    "listaFiltrada =[]\n",
    "for a in lista:\n",
    "    if len(a)>5:\n",
    "        listaFiltrada.append(a)\n",
    "\n",
    "print(listaFiltrada)"
   ]
  },
  {
   "cell_type": "code",
   "execution_count": 22,
   "metadata": {},
   "outputs": [
    {
     "name": "stdout",
     "output_type": "stream",
     "text": [
      "['Abelardo', 'Carlos', 'Gustav']\n"
     ]
    }
   ],
   "source": [
    "lista = ['Abelardo','Beto','Carlos','Diego','Edgar','Fredy','Gustav']\n",
    "listaFiltrada = list(filter(lambda x: len(x)>5 , lista))\n",
    "print(listaFiltrada)\n",
    "\n"
   ]
  },
  {
   "cell_type": "code",
   "execution_count": 23,
   "metadata": {},
   "outputs": [
    {
     "name": "stdout",
     "output_type": "stream",
     "text": [
      "['Abelardo', 'Beto', 'Carlos', 'Diego']\n"
     ]
    }
   ],
   "source": [
    "# resulta versatil poder modificar la forma de filtrar los datos, y que se mantenga optimo el rendimiento\n",
    "# filtrado de nombre que inician con A,B,C o D\n",
    "lista = ['Abelardo','Beto','Carlos','Diego','Edgar','Fredy','Gustav']\n",
    "listaFiltrada = list(filter(lambda x: ord(x[0])<69 , lista))\n",
    "print(listaFiltrada)\n"
   ]
  },
  {
   "cell_type": "markdown",
   "metadata": {},
   "source": [
    "Es importante resaltar que este tipo de funciones se puede utilizar en diversas situaciones mas alla de las mencionadas en este ejemplo.  Y tambien es importante que requieren un nivel mayor que un programador pricipiante.  En linea de lo que se mensiono de que toda funcion es tambien un objeto es posibe asignar una funcion lambda como un objeto.\n"
   ]
  },
  {
   "cell_type": "code",
   "execution_count": 24,
   "metadata": {},
   "outputs": [
    {
     "name": "stdout",
     "output_type": "stream",
     "text": [
      "['Abelardo', 'Carlos', 'Gustav'] ['Abelardo', 'Beto', 'Carlos', 'Diego']\n"
     ]
    }
   ],
   "source": [
    "# valores iniciales\n",
    "lista = ['Abelardo','Beto','Carlos','Diego','Edgar','Fredy','Gustav']\n",
    "# asignacion de funciones lambda\n",
    "nombresLargos = lambda x: len(x)>5\n",
    "primerasLetras = lambda x: ord(x[0])<69\n",
    "\n",
    "# uso de funciones para filtrar\n",
    "lst1 = list(filter(nombresLargos , lista))\n",
    "lst2 = list(filter(primerasLetras , lista))\n",
    "\n",
    "print(lst1,lst2)\n",
    "\n"
   ]
  }
 ],
 "metadata": {
  "kernelspec": {
   "display_name": "Python 3",
   "language": "python",
   "name": "python3"
  },
  "language_info": {
   "codemirror_mode": {
    "name": "ipython",
    "version": 3
   },
   "file_extension": ".py",
   "mimetype": "text/x-python",
   "name": "python",
   "nbconvert_exporter": "python",
   "pygments_lexer": "ipython3",
   "version": "3.7.4"
  }
 },
 "nbformat": 4,
 "nbformat_minor": 4
}

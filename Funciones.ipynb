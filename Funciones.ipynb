{
 "cells": [
  {
   "cell_type": "markdown",
   "metadata": {},
   "source": [
    "# Tarea sobre funciones"
   ]
  },
  {
   "cell_type": "markdown",
   "metadata": {},
   "source": [
    "Investigacion sobre:\n",
    "\n",
    "1. [Funciones en Python](#item1)\n",
    "2. [Parametros posisionales](#item2)\n",
    "3. [Parametros nombrados](#item3)\n",
    "4. [Retorno de multiples valores](#item4)\n",
    "5. [Funciones como objetos y como parametros de otras funciones](#item5)\n",
    "6. [Funciones anonimas o lambda](#item6)\n"
   ]
  },
  {
   "cell_type": "markdown",
   "metadata": {},
   "source": [
    "<a id='item1'></a>\n",
    "### 1. Funciones de python\n",
    "\n",
    "Un forma de interpretar las funciones es como un agrupador de instrucciones.  Por medio de un nombre unico dentro del script que se tenga en ese momento, se le definiran un bloque de instrucciones que se realizaran al momento de que se llame a este grupo.  La estructura respeta la logica del programa, por lo que todas las instrucciones que estan dentro de la identacion de la defincion pertenecera a ella.\n",
    "\n",
    "##### La estructura basica de una funcion\n",
    "\n",
    "* Se utiliza la palabra reservada **def** para especificar el inicio de la funcion.\n",
    "* Despues vendra el nombre de la funcion; el nombre de la funcion esta regulada a la reglas de nombre de variables del lenguaje (osea que no puede uniciar con numero, se permiten minisculas, se permiten mayusculas, se permite guion bajo '_', etc.).\n",
    "* Despues del nombre vendra parentesis, lo que esta dentro de los parentesis seran los parametros que se explicaran mas adelante. \n",
    "* Por ultimo estara el cuerpo de la funcion, la identacion del codigo indicara que lineas pertenecen a la funcion"
   ]
  },
  {
   "cell_type": "code",
   "execution_count": 48,
   "metadata": {},
   "outputs": [],
   "source": [
    "# Ejemplo de definicion basica\n",
    "# def  <nombre funcion>():\n",
    "def miPrimerFuncion():\n",
    "    # cuerpo de la funcion\n",
    "    print('hola mundo')"
   ]
  },
  {
   "cell_type": "markdown",
   "metadata": {},
   "source": [
    "#### Uso de funcion\n",
    "\n",
    "Para hacer uso de una funcion definida se realizada por medio del nombre definido y su parentesis"
   ]
  },
  {
   "cell_type": "code",
   "execution_count": 8,
   "metadata": {},
   "outputs": [
    {
     "name": "stdout",
     "output_type": "stream",
     "text": [
      "hola mundo\n"
     ]
    }
   ],
   "source": [
    "miPrimerFuncion()"
   ]
  },
  {
   "cell_type": "markdown",
   "metadata": {},
   "source": [
    "A partir de esto las funciones se pueden llamar desde cualquier punto del programa donde se logre tener acceso a la referencia (como un if, ciclo, etc.)"
   ]
  },
  {
   "cell_type": "code",
   "execution_count": 12,
   "metadata": {},
   "outputs": [
    {
     "name": "stdout",
     "output_type": "stream",
     "text": [
      "hola mundo\n",
      "hola mundo\n",
      "hola mundo\n"
     ]
    }
   ],
   "source": [
    "miPrimerFuncion() # llamada 1\n",
    "if True:\n",
    "    miPrimerFuncion() # llamada 2\n",
    "\n",
    "miPrimerFuncion() # llamada 3"
   ]
  },
  {
   "cell_type": "markdown",
   "metadata": {},
   "source": [
    "#### Retorno de resultados\n",
    "\n",
    "Para que retorne un resultado la funcion se utiliza la palabra reservada **return** seguida del valor o la variable.  Esta puede ser llamada desde cualquier punto de la funcion y provocara que se termine la ejecucion de la funcion; cualquier codigo que este despues de un return ya no sera ejecutado"
   ]
  },
  {
   "cell_type": "code",
   "execution_count": 29,
   "metadata": {},
   "outputs": [],
   "source": [
    "# Ejemplo de retorno de valores\n",
    "def segundaFuncion():\n",
    "    conteo = 1\n",
    "    conteo += 1\n",
    "    return conteo"
   ]
  },
  {
   "cell_type": "code",
   "execution_count": 28,
   "metadata": {},
   "outputs": [
    {
     "name": "stdout",
     "output_type": "stream",
     "text": [
      "2\n"
     ]
    }
   ],
   "source": [
    "print (segundaFuncion())"
   ]
  },
  {
   "cell_type": "code",
   "execution_count": 30,
   "metadata": {},
   "outputs": [],
   "source": [
    "# Ejemplo de retorno sin que se ejecute todo el codigo de la funcion\n",
    "def terceraFucion():\n",
    "    conteo = 1\n",
    "    conteo += 1\n",
    "    return conteo\n",
    "    conteo += 2 # esta linea ya no se realizara"
   ]
  },
  {
   "cell_type": "code",
   "execution_count": 32,
   "metadata": {},
   "outputs": [
    {
     "name": "stdout",
     "output_type": "stream",
     "text": [
      "2\n"
     ]
    }
   ],
   "source": [
    "print(terceraFucion()) ## retornara 2 y no 4"
   ]
  },
  {
   "cell_type": "markdown",
   "metadata": {},
   "source": [
    "<a id='item2'></a>\n",
    "### 2. Parametros posisionales\n",
    "\n",
    "El primer tipo de parametros comunes de las funciones de la mayoria de lenguajes de programacion es recibir parametros segun el orden en que fueron definidos.  Por ejemplo para poder enviar el segundo parametro es necesario enviar el primero.  "
   ]
  },
  {
   "cell_type": "code",
   "execution_count": 16,
   "metadata": {},
   "outputs": [],
   "source": [
    "def funcionParametros(uno, dos, tipoOperacion):\n",
    "    if tipoOperacion==1:\n",
    "        print(uno + dos)\n",
    "    else:\n",
    "        print(uno * dos)"
   ]
  },
  {
   "cell_type": "code",
   "execution_count": 21,
   "metadata": {},
   "outputs": [
    {
     "name": "stdout",
     "output_type": "stream",
     "text": [
      "7\n",
      "12\n"
     ]
    }
   ],
   "source": [
    "funcionParametros(4,3,1) # escribe la suma\n",
    "funcionParametros(4,3,2) # escribe la multiplicacion"
   ]
  },
  {
   "cell_type": "code",
   "execution_count": 25,
   "metadata": {},
   "outputs": [],
   "source": [
    "## la siguiente llamada no envia todos los parametros definidos que son 3, por lo tanto falla en su ejecucion\n",
    "# funcionParametros(4,1)"
   ]
  },
  {
   "cell_type": "markdown",
   "metadata": {},
   "source": [
    "---------------------------------------------------------------------------\n",
    "TypeError                                 Traceback (most recent call last)\n",
    "<ipython-input-22-0d76517e9c24> in <module>\n",
    "----> 1 funcionParametros(4,1)\n",
    "\n",
    "TypeError: funcionParametros() missing 1 required positional argument: 'tipoOperacion'"
   ]
  },
  {
   "cell_type": "markdown",
   "metadata": {},
   "source": [
    "Debido a que python es muy flexible en la definicion de los tipos de datos las funciones pueden recibir distitintos tipos de datos y ser evaluados "
   ]
  },
  {
   "cell_type": "code",
   "execution_count": 46,
   "metadata": {},
   "outputs": [],
   "source": [
    "# Ejemplo de una funcion que recibe distintos tipos de datos\n",
    "def tipoDato(valor):\n",
    "    if type(valor)== int:\n",
    "        valor *= valor\n",
    "        return 'Es entero, su cuadrado: ' + str(valor )\n",
    "    elif type(valor)==str:\n",
    "        \n",
    "        return 'Es cadena, no se opera'\n",
    "    elif type(valor)==float:\n",
    "        valor = valor*2\n",
    "        return 'Es flotante, el doble es: ' + str(valor)\n",
    "    else:\n",
    "        return 'es otra cosa'"
   ]
  },
  {
   "cell_type": "code",
   "execution_count": 47,
   "metadata": {},
   "outputs": [
    {
     "name": "stdout",
     "output_type": "stream",
     "text": [
      "Es entero, su cuadrado: 121\n",
      "Es cadena, no se opera\n",
      "Es flotante, el doble es: 66.44\n",
      "es otra cosa\n"
     ]
    }
   ],
   "source": [
    "print(tipoDato(11))\n",
    "print(tipoDato('Hola'))\n",
    "print(tipoDato(33.22))\n",
    "print(tipoDato([1,2,3]))"
   ]
  },
  {
   "cell_type": "markdown",
   "metadata": {},
   "source": [
    "<a id='item3'></a>\n",
    "### 3. Parametros nombrados\n",
    "\n",
    "aa"
   ]
  },
  {
   "cell_type": "code",
   "execution_count": null,
   "metadata": {},
   "outputs": [],
   "source": []
  },
  {
   "cell_type": "code",
   "execution_count": null,
   "metadata": {},
   "outputs": [],
   "source": []
  },
  {
   "cell_type": "markdown",
   "metadata": {},
   "source": [
    "<a id='item4'></a>\n",
    "### 4. Retorno de multiples valores\n",
    "\n",
    "a"
   ]
  },
  {
   "cell_type": "code",
   "execution_count": null,
   "metadata": {},
   "outputs": [],
   "source": []
  },
  {
   "cell_type": "code",
   "execution_count": null,
   "metadata": {},
   "outputs": [],
   "source": []
  },
  {
   "cell_type": "markdown",
   "metadata": {},
   "source": [
    "<a id='item5'></a>\n",
    "### 5. Funciones como objetos y como parametros de otras funciones\n",
    "\n",
    "a"
   ]
  },
  {
   "cell_type": "code",
   "execution_count": null,
   "metadata": {},
   "outputs": [],
   "source": []
  },
  {
   "cell_type": "code",
   "execution_count": null,
   "metadata": {},
   "outputs": [],
   "source": []
  },
  {
   "cell_type": "markdown",
   "metadata": {},
   "source": [
    "<a id='item6'></a>\n",
    "### 6. Funciones anonimas o lambda\n",
    "\n",
    "b"
   ]
  },
  {
   "cell_type": "code",
   "execution_count": null,
   "metadata": {},
   "outputs": [],
   "source": []
  },
  {
   "cell_type": "code",
   "execution_count": null,
   "metadata": {},
   "outputs": [],
   "source": []
  },
  {
   "cell_type": "code",
   "execution_count": null,
   "metadata": {},
   "outputs": [],
   "source": []
  }
 ],
 "metadata": {
  "kernelspec": {
   "display_name": "Python 3",
   "language": "python",
   "name": "python3"
  },
  "language_info": {
   "codemirror_mode": {
    "name": "ipython",
    "version": 3
   },
   "file_extension": ".py",
   "mimetype": "text/x-python",
   "name": "python",
   "nbconvert_exporter": "python",
   "pygments_lexer": "ipython3",
   "version": "3.7.4"
  }
 },
 "nbformat": 4,
 "nbformat_minor": 4
}
